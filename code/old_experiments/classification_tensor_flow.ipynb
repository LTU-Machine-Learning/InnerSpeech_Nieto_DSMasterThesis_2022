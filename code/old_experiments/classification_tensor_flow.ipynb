{
 "cells": [
  {
   "cell_type": "code",
   "execution_count": 2,
   "metadata": {
    "collapsed": true
   },
   "outputs": [],
   "source": [
    "# Init libraries\n",
    "import warnings\n",
    "import mne\n",
    "import numpy as np\n",
    "from sklearn.exceptions import ConvergenceWarning\n",
    "\n",
    "np.random.seed(23)\n",
    "mne.set_log_level(verbose='warning') #to avoid info at terminal\n",
    "warnings.filterwarnings(action = \"ignore\", category = DeprecationWarning )\n",
    "warnings.filterwarnings(action = \"ignore\", category = FutureWarning )\n",
    "warnings.filterwarnings(action = \"ignore\", category = ConvergenceWarning )"
   ]
  },
  {
   "cell_type": "code",
   "execution_count": 3,
   "outputs": [],
   "source": [
    "# Project defaults\n",
    "# The root dir\n",
    "root_dir = \"./ds003626\"\n",
    "\n",
    "# Sampling rate\n",
    "fs = 256\n",
    "\n",
    "# Select the useful par of each trial. Time in seconds\n",
    "t_start = 1.5\n",
    "t_end = 3.5"
   ],
   "metadata": {
    "collapsed": false,
    "pycharm": {
     "name": "#%%\n"
    }
   }
  },
  {
   "cell_type": "code",
   "execution_count": 4,
   "outputs": [
    {
     "data": {
      "text/plain": "(10, 10, 10)"
     },
     "execution_count": 4,
     "metadata": {},
     "output_type": "execute_result"
    }
   ],
   "source": [
    "# Load dataset\n",
    "from aux.pre_process import get_subjects_data_and_label, get_subjects_data_label_group\n",
    "\n",
    "condition = \"Inner\"\n",
    "data, labels, groups = get_subjects_data_label_group(root_dir, condition, t_start = t_start, t_end = t_end, fs = fs)\n",
    "len(data), len(labels), len(groups)"
   ],
   "metadata": {
    "collapsed": false,
    "pycharm": {
     "name": "#%%\n"
    }
   }
  },
  {
   "cell_type": "code",
   "execution_count": 5,
   "outputs": [],
   "source": [
    "data_array=np.vstack(data)\n",
    "label_array=np.hstack(labels)\n",
    "group_array=np.hstack(groups)\n",
    "data_array=np.moveaxis(data_array, 1, 2)"
   ],
   "metadata": {
    "collapsed": false,
    "pycharm": {
     "name": "#%%\n"
    }
   }
  },
  {
   "cell_type": "code",
   "execution_count": 6,
   "outputs": [
    {
     "data": {
      "text/plain": "((2236, 512, 128), (2236,), (2236,))"
     },
     "execution_count": 6,
     "metadata": {},
     "output_type": "execute_result"
    }
   ],
   "source": [
    "data_array.shape, label_array.shape, group_array.shape"
   ],
   "metadata": {
    "collapsed": false,
    "pycharm": {
     "name": "#%%\n"
    }
   }
  },
  {
   "cell_type": "code",
   "execution_count": 10,
   "outputs": [
    {
     "name": "stdout",
     "output_type": "stream",
     "text": [
      "Model: \"sequential_1\"\n",
      "_________________________________________________________________\n",
      "Layer (type)                 Output Shape              Param #   \n",
      "=================================================================\n",
      "conv1d_5 (Conv1D)            (None, 2234, 5)           1925      \n",
      "_________________________________________________________________\n",
      "batch_normalization_1 (Batch (None, 2234, 5)           20        \n",
      "_________________________________________________________________\n",
      "leaky_re_lu_5 (LeakyReLU)    (None, 2234, 5)           0         \n",
      "_________________________________________________________________\n",
      "max_pooling1d_2 (MaxPooling1 (None, 1117, 5)           0         \n",
      "_________________________________________________________________\n",
      "conv1d_6 (Conv1D)            (None, 1115, 5)           80        \n",
      "_________________________________________________________________\n",
      "leaky_re_lu_6 (LeakyReLU)    (None, 1115, 5)           0         \n",
      "_________________________________________________________________\n",
      "max_pooling1d_3 (MaxPooling1 (None, 557, 5)            0         \n",
      "_________________________________________________________________\n",
      "dropout_2 (Dropout)          (None, 557, 5)            0         \n",
      "_________________________________________________________________\n",
      "conv1d_7 (Conv1D)            (None, 555, 5)            80        \n",
      "_________________________________________________________________\n",
      "leaky_re_lu_7 (LeakyReLU)    (None, 555, 5)            0         \n",
      "_________________________________________________________________\n",
      "average_pooling1d_2 (Average (None, 277, 5)            0         \n",
      "_________________________________________________________________\n",
      "dropout_3 (Dropout)          (None, 277, 5)            0         \n",
      "_________________________________________________________________\n",
      "conv1d_8 (Conv1D)            (None, 275, 5)            80        \n",
      "_________________________________________________________________\n",
      "leaky_re_lu_8 (LeakyReLU)    (None, 275, 5)            0         \n",
      "_________________________________________________________________\n",
      "average_pooling1d_3 (Average (None, 137, 5)            0         \n",
      "_________________________________________________________________\n",
      "conv1d_9 (Conv1D)            (None, 135, 5)            80        \n",
      "_________________________________________________________________\n",
      "leaky_re_lu_9 (LeakyReLU)    (None, 135, 5)            0         \n",
      "_________________________________________________________________\n",
      "global_average_pooling1d_1 ( (None, 5)                 0         \n",
      "_________________________________________________________________\n",
      "dense_1 (Dense)              (None, 1)                 6         \n",
      "=================================================================\n",
      "Total params: 2,271\n",
      "Trainable params: 2,261\n",
      "Non-trainable params: 10\n",
      "_________________________________________________________________\n"
     ]
    }
   ],
   "source": [
    "from others.eeg import EEGNet\n",
    "from sklearn.model_selection import train_test_split\n",
    "import tensorflow as tf\n",
    "from matplotlib import rcParams\n",
    "tf.random.set_seed(42)\n",
    "from tensorflow.python.keras.layers import Conv1D, BatchNormalization, MaxPool1D, Dropout, AveragePooling1D, \\\n",
    "    GlobalAveragePooling1D, Dense, LeakyReLU\n",
    "from tensorflow.python.keras import Sequential\n",
    "\n",
    "def cnnmodel():\n",
    "    _m=Sequential()\n",
    "    _m.add(Conv1D(filters=5, kernel_size=3, strides=1, input_shape=(2236, 128)))\n",
    "    _m.add(BatchNormalization())\n",
    "    _m.add(LeakyReLU())\n",
    "    _m.add(MaxPool1D(pool_size=2, strides=2))\n",
    "    _m.add(Conv1D(filters=5, kernel_size=3, strides=1))\n",
    "    _m.add(LeakyReLU())\n",
    "    _m.add(MaxPool1D(pool_size=2, strides=2))\n",
    "    _m.add(Dropout(0.5))\n",
    "    _m.add(Conv1D(filters=5, kernel_size=3, strides=1))\n",
    "    _m.add(LeakyReLU())\n",
    "    _m.add(AveragePooling1D(pool_size=2, strides=2))\n",
    "    _m.add(Dropout(0.5))\n",
    "    _m.add(Conv1D(filters=5, kernel_size=3, strides=1))\n",
    "    _m.add(LeakyReLU())\n",
    "    _m.add(AveragePooling1D(pool_size=2, strides=2))\n",
    "    _m.add(Conv1D(filters=5, kernel_size=3, strides=1))\n",
    "    _m.add(LeakyReLU())\n",
    "    _m.add(GlobalAveragePooling1D())\n",
    "    _m.add(Dense(1, activation='sigmoid'))\n",
    "\n",
    "    _m.compile('adam', loss='binary_crossentropy', metrics=['accuracy'])\n",
    "    return _m\n",
    "\n",
    "model = cnnmodel()\n",
    "model.summary()"
   ],
   "metadata": {
    "collapsed": false,
    "pycharm": {
     "name": "#%%\n"
    }
   }
  },
  {
   "cell_type": "code",
   "execution_count": 1,
   "outputs": [
    {
     "ename": "NameError",
     "evalue": "name 'data_array' is not defined",
     "output_type": "error",
     "traceback": [
      "\u001B[0;31m---------------------------------------------------------------------------\u001B[0m",
      "\u001B[0;31mNameError\u001B[0m                                 Traceback (most recent call last)",
      "Input \u001B[0;32mIn [1]\u001B[0m, in \u001B[0;36m<cell line: 5>\u001B[0;34m()\u001B[0m\n\u001B[1;32m      3\u001B[0m gfk\u001B[38;5;241m=\u001B[39mGroupKFold()\n\u001B[1;32m      4\u001B[0m accuracy\u001B[38;5;241m=\u001B[39m[]\n\u001B[0;32m----> 5\u001B[0m \u001B[38;5;28;01mfor\u001B[39;00m train_index, val_index \u001B[38;5;129;01min\u001B[39;00m gfk\u001B[38;5;241m.\u001B[39msplit(\u001B[43mdata_array\u001B[49m, label_array, groups\u001B[38;5;241m=\u001B[39mgroup_array):\n\u001B[1;32m      6\u001B[0m     train_features, train_labels \u001B[38;5;241m=\u001B[39m data_array[train_index], label_array[train_index]\n\u001B[1;32m      7\u001B[0m     val_features, val_labels \u001B[38;5;241m=\u001B[39m data_array[val_index], label_array[val_index]\n",
      "\u001B[0;31mNameError\u001B[0m: name 'data_array' is not defined"
     ]
    }
   ],
   "source": [
    "from sklearn.model_selection import GroupKFold, LeaveOneGroupOut\n",
    "from sklearn.preprocessing import StandardScaler\n",
    "gfk=GroupKFold()\n",
    "accuracy=[]\n",
    "for train_index, val_index in gfk.split(data_array, label_array, groups=group_array):\n",
    "    train_features, train_labels = data_array[train_index], label_array[train_index]\n",
    "    val_features, val_labels = data_array[val_index], label_array[val_index]\n",
    "    scaler=StandardScaler()\n",
    "    train_features=scaler.fit_transform(train_features.reshape(-1, train_features.shape[-1])).reshape(train_features.shape)\n",
    "    val_features=scaler.transform(val_features.reshape(-1, val_features.shape[-1])).reshape(val_features.shape)\n",
    "    model=cnnmodel()\n",
    "    model.fit(train_features, train_labels, epochs=10, batch_size=100, validation_data=(val_features, val_labels))\n",
    "    accuracy.append(model.evaluate(val_features, val_labels)[1])\n",
    "\n",
    "    break"
   ],
   "metadata": {
    "collapsed": false,
    "pycharm": {
     "name": "#%%\n"
    }
   }
  },
  {
   "cell_type": "code",
   "execution_count": null,
   "outputs": [],
   "source": [],
   "metadata": {
    "collapsed": false,
    "pycharm": {
     "name": "#%%\n"
    }
   }
  }
 ],
 "metadata": {
  "kernelspec": {
   "display_name": "Python 3",
   "language": "python",
   "name": "python3"
  },
  "language_info": {
   "codemirror_mode": {
    "name": "ipython",
    "version": 2
   },
   "file_extension": ".py",
   "mimetype": "text/x-python",
   "name": "python",
   "nbconvert_exporter": "python",
   "pygments_lexer": "ipython2",
   "version": "2.7.6"
  }
 },
 "nbformat": 4,
 "nbformat_minor": 0
}