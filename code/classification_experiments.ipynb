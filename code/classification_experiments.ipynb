{
 "cells": [
  {
   "cell_type": "code",
   "execution_count": 1,
   "outputs": [
    {
     "name": "stdout",
     "output_type": "stream",
     "text": [
      "Looking in indexes: https://pypi.org/simple, https://pypi.ngc.nvidia.com\n",
      "Requirement already satisfied: awscli in /home/rollin/anaconda3/envs/thesis/lib/python3.9/site-packages (1.25.0)\n",
      "Requirement already satisfied: rsa<4.8,>=3.1.2 in /home/rollin/anaconda3/envs/thesis/lib/python3.9/site-packages (from awscli) (4.7.2)\n",
      "Requirement already satisfied: colorama<0.4.5,>=0.2.5 in /home/rollin/anaconda3/envs/thesis/lib/python3.9/site-packages (from awscli) (0.4.4)\n",
      "Requirement already satisfied: docutils<0.17,>=0.10 in /home/rollin/anaconda3/envs/thesis/lib/python3.9/site-packages (from awscli) (0.16)\n",
      "Requirement already satisfied: botocore==1.27.0 in /home/rollin/anaconda3/envs/thesis/lib/python3.9/site-packages (from awscli) (1.27.0)\n",
      "Requirement already satisfied: PyYAML<5.5,>=3.10 in /home/rollin/anaconda3/envs/thesis/lib/python3.9/site-packages (from awscli) (5.4.1)\n",
      "Requirement already satisfied: s3transfer<0.7.0,>=0.6.0 in /home/rollin/anaconda3/envs/thesis/lib/python3.9/site-packages (from awscli) (0.6.0)\n",
      "Requirement already satisfied: jmespath<2.0.0,>=0.7.1 in /home/rollin/anaconda3/envs/thesis/lib/python3.9/site-packages (from botocore==1.27.0->awscli) (1.0.0)\n",
      "Requirement already satisfied: python-dateutil<3.0.0,>=2.1 in /home/rollin/anaconda3/envs/thesis/lib/python3.9/site-packages (from botocore==1.27.0->awscli) (2.8.2)\n",
      "Requirement already satisfied: urllib3<1.27,>=1.25.4 in /home/rollin/anaconda3/envs/thesis/lib/python3.9/site-packages (from botocore==1.27.0->awscli) (1.26.9)\n",
      "Requirement already satisfied: six>=1.5 in /home/rollin/anaconda3/envs/thesis/lib/python3.9/site-packages (from python-dateutil<3.0.0,>=2.1->botocore==1.27.0->awscli) (1.16.0)\n",
      "Requirement already satisfied: pyasn1>=0.1.3 in /home/rollin/anaconda3/envs/thesis/lib/python3.9/site-packages (from rsa<4.8,>=3.1.2->awscli) (0.4.8)\n"
     ]
    }
   ],
   "source": [
    "from support import init_repo\n",
    "\n",
    "# start the repository\n",
    "init_repo()"
   ],
   "metadata": {
    "collapsed": false,
    "pycharm": {
     "name": "#%%\n"
    }
   }
  },
  {
   "cell_type": "code",
   "execution_count": 2,
   "outputs": [
    {
     "data": {
      "text/plain": "((2236, 128, 512), (2236,), (2236,))"
     },
     "execution_count": 2,
     "metadata": {},
     "output_type": "execute_result"
    }
   ],
   "source": [
    "from support import get_subjects_data\n",
    "# settings\n",
    "fs = 256 # Sampling rate\n",
    "condition = \"INNER\" # PRONOUNCED, INNER or VISUALIZED\n",
    "random_state = 46\n",
    "\n",
    "# Select the useful par of each trial. Time in seconds\n",
    "t_start = 1.5 # start (in seconds)\n",
    "t_end = 3.5 # end (in seconds)\n",
    "\n",
    "data_array, label_array, group_array = get_subjects_data(condition=condition, t_start = t_start, t_end = t_end, fs = fs)\n",
    "data_array.shape, label_array.shape, group_array.shape"
   ],
   "metadata": {
    "collapsed": false,
    "pycharm": {
     "name": "#%%\n"
    }
   }
  },
  {
   "cell_type": "code",
   "execution_count": 3,
   "outputs": [
    {
     "data": {
      "text/plain": "(2236, 1536)"
     },
     "execution_count": 3,
     "metadata": {},
     "output_type": "execute_result"
    }
   ],
   "source": [
    "from features import f_mean, f_std, f_ptp, f_var, f_minim, f_maxim, f_argminim, f_argmaxim, f_rms, f_abs_diff_signal, \\\n",
    "    f_skewness, f_kurtosis, generate_features\n",
    "\n",
    "func_list = [f_mean, f_std, f_ptp, f_var, f_minim, f_maxim, f_argminim, f_argmaxim, f_rms, f_abs_diff_signal, f_skewness, f_kurtosis]\n",
    "\n",
    "features_array = generate_features(data_array, func_list)\n",
    "features_array.shape"
   ],
   "metadata": {
    "collapsed": false,
    "pycharm": {
     "name": "#%%\n"
    }
   }
  },
  {
   "cell_type": "code",
   "execution_count": 4,
   "outputs": [],
   "source": [
    "def split_train_test(data, labels, groups, size):\n",
    "    # Stratify guarantees that the same proportion of the classes will be available in train and test\n",
    "    x_tr, x_ts, y_tr, y_ts, g_tr, g_ts = train_test_split(data, labels, groups, test_size=size, stratify=y, random_state=random_state)\n",
    "    # Apply the scaler in the training data\n",
    "    ss = StandardScaler()\n",
    "    x_tr = ss.fit_transform(x_tr)\n",
    "    x_ts = ss.transform(x_ts)\n",
    "    return x_tr, x_ts, y_tr, y_ts, g_tr, g_ts"
   ],
   "metadata": {
    "collapsed": false,
    "pycharm": {
     "name": "#%%\n"
    }
   }
  },
  {
   "cell_type": "code",
   "execution_count": null,
   "outputs": [
    {
     "name": "stdout",
     "output_type": "stream",
     "text": [
      "Feature transformation - number of features: Before 1536 - After 681\n"
     ]
    }
   ],
   "source": [
    "# Run nested cross-validation and re-run using the best parameters\n",
    "import numpy as np\n",
    "from sklearn.neural_network import MLPClassifier\n",
    "from sklearn.ensemble import RandomForestClassifier\n",
    "from sklearn import metrics\n",
    "from sklearn.model_selection import GridSearchCV, train_test_split, StratifiedGroupKFold\n",
    "from sklearn.preprocessing import StandardScaler\n",
    "from sklearn.svm import LinearSVC, SVC\n",
    "from support import run_cross_validation, get_feature_selection_model, print_report_nested_cross_validation, print_report_classifier\n",
    "\n",
    "X = features_array\n",
    "y = label_array\n",
    "\n",
    "feature_sm = get_feature_selection_model(X, y)\n",
    "\n",
    "# Apply the Feature Selection Model without scaling the data\n",
    "X = feature_sm.transform(X)\n",
    "n_features_before = np.shape(features_array)\n",
    "print(\"Feature transformation - number of features: Before {} - After {}\".format(np.shape(features_array)[1], np.shape(X)[1]))\n",
    "\n",
    "splits = [0.10, 0.20, 0.30]\n",
    "\n",
    "# Run Nested cross-validation\n",
    "inner_cv = StratifiedGroupKFold(n_splits=5)\n",
    "outer_cv = StratifiedGroupKFold(n_splits=5)\n",
    "\n",
    "classifiers = [\n",
    "    [\"Random Forest\", RandomForestClassifier(), {'n_estimators': [200, 500, 1000, 2000], 'max_features': ['auto', 'sqrt', 'log2'], 'max_depth' : [4,5,6,7,8], 'criterion' :['gini', 'entropy']}],\n",
    "    [\"Neural Network\", MLPClassifier(), {'solver': ['lbfgs'], 'max_iter': [200, 1000,1100,1200,1300,1400,1500,1600,1700,1800,1900,2000 ], 'alpha': 10.0 ** -np.arange(1, 10), 'hidden_layer_sizes': np.arange(10, 15)}],\n",
    "    [\"Linear SVC\", LinearSVC(), {'C': [0.00001, 0.0001, 0.0005, 1, 10, 100, 1000], 'dual': (True, False)}],\n",
    "    [\"SVC\", SVC(), [{\"kernel\": [\"rbf\"], \"gamma\": [1e-3, 1e-4], \"C\": [0.00001, 0.0001, 0.0005, 1, 10, 100, 1000]},\n",
    "                    {\"kernel\": [\"linear\"], \"C\": [0.00001, 0.0001, 0.0005, 1, 10, 100, 1000]}, ]\n",
    "     ]\n",
    "]\n",
    "\n",
    "for cls in classifiers:\n",
    "    best_params = []\n",
    "    best_scores = []\n",
    "\n",
    "    for test_size in splits:\n",
    "        x_train, x_test, y_train, y_test, g_train, g_test = split_train_test(X, y, group_array, test_size)\n",
    "        clf = GridSearchCV(estimator=cls[1], param_grid=cls[2], cv=inner_cv, n_jobs=-1)\n",
    "        clf.fit(x_train, y_train, groups=g_train)\n",
    "\n",
    "        best_params.append(clf.best_params_)\n",
    "        best_scores.append(clf.best_score_)\n",
    "\n",
    "    # Get the best parameter\n",
    "    best_param = best_params[np.argmax(best_scores)]\n",
    "\n",
    "    acc_list = []\n",
    "    cross_v_list = []\n",
    "    # Run the same classifier using the best parameters\n",
    "    for test_size in splits:\n",
    "        x_train, x_test, y_train, y_test, g_train, g_test = split_train_test(X, y, group_array, test_size)\n",
    "        best_param['random_state'] = random_state\n",
    "        cls[1].set_params(**best_param)\n",
    "        cls[1].fit(x_train, y_train)\n",
    "        y_pred = cls[1].predict(x_test)\n",
    "        acc_list.append(metrics.accuracy_score(y_test, y_pred))\n",
    "        cross_v_list.append(run_cross_validation(cls[1], outer_cv, x_train, y_train, g_train))\n",
    "\n",
    "    print('\\n{}: {} '.format(\"Classifier\", cls[0]))\n",
    "    print_report_nested_cross_validation(splits, best_params, best_scores)\n",
    "    print_report_classifier(splits, acc_list, cross_v_list)\n",
    "    print(f_std(best_scores))"
   ],
   "metadata": {
    "collapsed": false,
    "pycharm": {
     "name": "#%%\n",
     "is_executing": true
    }
   }
  },
  {
   "cell_type": "code",
   "execution_count": null,
   "outputs": [],
   "source": [
    "from sklearn.model_selection import LeavePGroupsOut, cross_val_score\n",
    "\n",
    "# Run by subject\n",
    "X = features_array\n",
    "y = label_array\n",
    "\n",
    "cv = StratifiedGroupKFold(n_splits=5)\n",
    "\n",
    "feature_sm = get_feature_selection_model(X, y)\n",
    "\n",
    "# Apply the Feature Selection Model without scaling the data\n",
    "X = feature_sm.transform(X)\n",
    "n_features_before = np.shape(features_array)\n",
    "print(\"Feature transformation - number of features: Before {} - After {}\".format(np.shape(features_array)[1], np.shape(X)[1]))\n",
    "\n",
    "classifiers = [\n",
    "    [\"Random Forest\", RandomForestClassifier(random_state=random_state, max_features='log2', n_estimators= 200, max_depth=8, criterion='entropy')],\n",
    "    [\"Neural Network\", MLPClassifier(random_state=random_state, alpha=1e-09, hidden_layer_sizes=10, max_iter=1800, solver='lbfgs')],\n",
    "    [\"Linear SVC\", LinearSVC(random_state=random_state, max_iter=10000, C=0.0005)],\n",
    "    [\"SVC\", SVC(random_state=random_state, max_iter=10000, C=10, kernel='linear')],\n",
    "]\n",
    "\n",
    "for cls in classifiers:\n",
    "    acc_list = []\n",
    "    cross_v_list = []\n",
    "    subject_list = []\n",
    "    # Run the same classifier using the best parameters\n",
    "\n",
    "    leave_pgo = LeavePGroupsOut(n_groups=9)\n",
    "\n",
    "    for train_index, test_index in leave_pgo.split(X, y, group_array):\n",
    "        subject_list.append(group_array[train_index[0]])\n",
    "        x_train, x_test = X[train_index], X[test_index]\n",
    "        y_train, y_test = y[train_index], y[test_index]\n",
    "\n",
    "        ss = StandardScaler()\n",
    "        x_train = ss.fit_transform(x_train)\n",
    "        x_test = ss.transform(x_test)\n",
    "\n",
    "        cls[1].fit(x_train, y_train)\n",
    "        y_pred = cls[1].predict(x_test)\n",
    "        acc_list.append(metrics.accuracy_score(y_test, y_pred))\n",
    "        cross_v_list.append(run_cross_validation(cls[1], cv, x_test, y_test, group_array[test_index]))\n",
    "\n",
    "    print('\\n{}: {} '.format(\"Classifier\", cls[0]))\n",
    "    for index, sub in enumerate(subject_list):\n",
    "        print(\"Subject: {} - Accuracy {} - Cross validation {}\".format(sub, acc_list[index], cross_v_list[index]))"
   ],
   "metadata": {
    "collapsed": false,
    "pycharm": {
     "name": "#%%\n",
     "is_executing": true
    }
   }
  },
  {
   "cell_type": "code",
   "execution_count": null,
   "outputs": [],
   "source": [
    "from sklearn.model_selection import LeaveOneGroupOut\n",
    "\n",
    "# Leave One Out (LOO)\n",
    "X = features_array\n",
    "y = label_array\n",
    "\n",
    "cv = StratifiedGroupKFold(n_splits=5)\n",
    "\n",
    "feature_sm = get_feature_selection_model(X, y)\n",
    "\n",
    "# Apply the Feature Selection Model without scaling the data\n",
    "X = feature_sm.transform(X)\n",
    "n_features_before = np.shape(features_array)\n",
    "print(\"Feature transformation - number of features: Before {} - After {}\".format(np.shape(features_array)[1], np.shape(X)[1]))\n",
    "\n",
    "classifiers = [\n",
    "    [\"Random Forest\", RandomForestClassifier(random_state=random_state, max_features='log2', n_estimators= 200, max_depth=8, criterion='entropy')],\n",
    "    [\"Neural Network\", MLPClassifier(random_state=random_state, alpha=1e-09, hidden_layer_sizes=10, max_iter=1800, solver='lbfgs')],\n",
    "    [\"Linear SVC\", LinearSVC(random_state=random_state, max_iter=10000, C=10)],\n",
    "    [\"SVC\", SVC(random_state=random_state, max_iter=10000, C=10, kernel='linear')],\n",
    "]\n",
    "\n",
    "for cls in classifiers:\n",
    "    acc_list = []\n",
    "    cross_v_list = []\n",
    "    group_list = []\n",
    "    # Run the same classifier using the best parameters\n",
    "\n",
    "    leave_oo = LeaveOneGroupOut()\n",
    "\n",
    "    for train_index, test_index in leave_oo.split(X, y, group_array):\n",
    "        group_list.append(group_array[test_index[0]])\n",
    "        x_train, x_test = X[train_index], X[test_index]\n",
    "        y_train, y_test = y[train_index], y[test_index]\n",
    "\n",
    "        ss = StandardScaler()\n",
    "        x_train = ss.fit_transform(x_train)\n",
    "        x_test = ss.transform(x_test)\n",
    "\n",
    "        cls[1].fit(x_train, y_train)\n",
    "        y_pred = cls[1].predict(x_test)\n",
    "        acc_list.append(metrics.accuracy_score(y_test, y_pred))\n",
    "        cross_v_list.append(run_cross_validation(cls[1], cv, x_train, y_train, group_array[train_index]))\n",
    "\n",
    "    print('\\n{}: {} '.format(\"Classifier\", cls[0]))\n",
    "    for index, gp in enumerate(group_list):\n",
    "        print(\"Group out: {} - Accuracy {} - Cross validation {}\".format(gp, acc_list[index], cross_v_list[index]))"
   ],
   "metadata": {
    "collapsed": false,
    "pycharm": {
     "name": "#%%\n",
     "is_executing": true
    }
   }
  }
 ],
 "metadata": {
  "kernelspec": {
   "display_name": "Python 3",
   "language": "python",
   "name": "python3"
  },
  "language_info": {
   "codemirror_mode": {
    "name": "ipython",
    "version": 2
   },
   "file_extension": ".py",
   "mimetype": "text/x-python",
   "name": "python",
   "nbconvert_exporter": "python",
   "pygments_lexer": "ipython2",
   "version": "2.7.6"
  }
 },
 "nbformat": 4,
 "nbformat_minor": 0
}